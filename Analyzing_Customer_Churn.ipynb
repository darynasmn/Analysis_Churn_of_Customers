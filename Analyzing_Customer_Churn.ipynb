{
 "cells": [
  {
   "cell_type": "markdown",
   "id": "eea3cb35",
   "metadata": {},
   "source": [
    "# 0) Looking thought two tables"
   ]
  },
  {
   "cell_type": "code",
   "execution_count": null,
   "id": "e7cd53c6",
   "metadata": {},
   "outputs": [],
   "source": [
    "# Project: Analyzing Customer Churn\n",
    "\n",
    "# In this final project you will analyze the customer churn of a telecommunications company.\n",
    "# In this project you will do the following by yourself:\n",
    "\n",
    "\n",
    "# `churn_data` table:\n",
    "\n",
    "# Column number | Column name             | Type                  | Description\n",
    "#  ------------ | :---------:             | :---------:           | ------------:\n",
    "# 0             | `account_length`        | numerical (`int`)     | Unknown units of time, how long the customer has been a customer.\n",
    "# 1             | `international_plan`    | categorical (nominal) | Contract with special conditions for cheaper calls to other countries.\n",
    "# 2             | `voice_mail_plan`       | categorical (nominal) | Contract with special conditions for more voicemail storage.\n",
    "# 3             | `number_vmail_messages` | numerical (`int`)     | Number of voicemail messages.\n",
    "# 4             | `total_day_minutes`     | numerical (`float`)   | Duration in minutes of all calls from 8am to 4pm.\n",
    "# 5             | `total_day_calls`       | numerical (`int`)     | Number of all calls from 8am to 4pm.\n",
    "# 6             | `total_day_charge`      | numerical (`float`)   | Calculated costs for all calls from 8am to 4pm.\n",
    "# 7             | `total_eve_minutes`     | numerical (`float`)   | Duration in minutes of all calls from 4pm to 10pm.\n",
    "# 8             | `total_eve_calls`       | numerical (`int`)     | Number of all calls from 4pm to 10pm.\n",
    "# 9             | `total_eve_charge`      | numerical (`float`)   | Calculated costs for all calls from 4pm to 10pm.\n",
    "# 10            | `total_night_minutes`   | numerical (`float`)   | Duration in minutes of all calls from 10pm to 8am.\n",
    "# 11            | `total_night_calls`     | numerical (`int`)     | Number of all calls from 10pm to 8am.\n",
    "# 12            | `total_night_charge`    | numerical (`float`)   | Calculated costs for all calls from 10pm to 8am.\n",
    "# 13            | `customer_service_calls`| numerical (`int`)     | Number of calls to customer service, e.g. due to technical problems.\n",
    "# 14            | `churn`                 | categorical (nominal) | Did the customer leave? (1=yes 0=no)\n",
    "# 15            | `local_area_code`       | categorical (nominal) | local area code for telephone.\n",
    "# 16            | `phone_num`             | Categorical (nominal) | Customers telephone number not including the local area code.\n",
    "\n",
    "# `cities` table:\n",
    "\n",
    "# Column number | Column name       | Type                  | Description\n",
    "#  ------------ | :---------:       |:---------:            | ------------:\n",
    "# 0             | `city`            | categorical (nominal) | Cities.\n",
    "# 1             | `area_code`       | categorical (nominal) | local area code for telephone.\n",
    "\n"
   ]
  },
  {
   "cell_type": "markdown",
   "id": "2e8a2000",
   "metadata": {},
   "source": [
    "# 1 ) Importing data"
   ]
  },
  {
   "cell_type": "code",
   "execution_count": null,
   "id": "9872098c",
   "metadata": {},
   "outputs": [],
   "source": [
    "#import the required libraries\n",
    "import sqlalchemy as sa\n",
    "import pandas as pd\n",
    "import numpy as np \n",
    "import seaborn as sns\n",
    "import matplotlib.pyplot as plt\n",
    "import statsmodels.formula.api as smf\n",
    "%matplotlib inline\n",
    "\n",
    "#SQL query to join the tables\n",
    "engine = sa.create_engine('sqlite:///telco_churn.db')\n",
    "connection = engine.connect()\n",
    "\n",
    "#check which tables the document has \n",
    "inspector = sa.inspect(engine)\n",
    "table_names = inspector.get_table_names()\n",
    "\n",
    "table_names"
   ]
  },
  {
   "cell_type": "code",
   "execution_count": null,
   "id": "66d1557a",
   "metadata": {},
   "outputs": [],
   "source": [
    "#create new dataFrame to put all values from first table\n",
    "df_1 = pd.read_sql('SELECT * FROM churn_data', connection)\n",
    "df_1.head()\n",
    "\n",
    "#create new dataFrame to put all values from second table\n",
    "df_2 = pd.read_sql('SELECT * FROM cities', connection)\n",
    "df_2.head()\n",
    "\n",
    "#union two tables together\n",
    "query_string = '''SELECT * \n",
    "FROM churn_data\n",
    "JOIN cities\n",
    "ON churn_data.local_area_code = cities.area_code'''\n",
    "df = pd.read_sql(query_string, connection)\n",
    "df"
   ]
  },
  {
   "cell_type": "markdown",
   "id": "3eb0de1e",
   "metadata": {},
   "source": [
    "# 2) Check and clean the data"
   ]
  },
  {
   "cell_type": "code",
   "execution_count": null,
   "id": "2ce6c99b",
   "metadata": {},
   "outputs": [],
   "source": [
    "#drop the unnecessary column \"local_area_code\", as column \"area_code\" has the same values\n",
    "df = df.drop('local_area_code', axis =1)\n",
    "df"
   ]
  },
  {
   "cell_type": "code",
   "execution_count": null,
   "id": "7395a5e1",
   "metadata": {},
   "outputs": [],
   "source": [
    "#use command \"describe\" to inspect the numerical data\n",
    "df.describe()"
   ]
  },
  {
   "cell_type": "code",
   "execution_count": null,
   "id": "32511816",
   "metadata": {},
   "outputs": [],
   "source": [
    "#create the mask to drop the wrong values in the column \"customer_service_calls\"\n",
    "mask_customer = df.loc[:, 'customer_service_calls'] <0\n",
    "df.loc[mask_customer,'customer_service_calls'] = np.nan\n",
    "df= df.dropna(axis = 0, thresh=18)\n",
    "\n",
    "#check the shape \n",
    "df.shape"
   ]
  },
  {
   "cell_type": "code",
   "execution_count": null,
   "id": "480a57c3",
   "metadata": {},
   "outputs": [],
   "source": [
    "#check the types of data \n",
    "df.dtypes"
   ]
  },
  {
   "cell_type": "code",
   "execution_count": null,
   "id": "06e9a647",
   "metadata": {},
   "outputs": [],
   "source": [
    "#change the types of data\n",
    "\n",
    "df.loc[:, 'account_length'] = df.loc[:, 'account_length'].astype('float32')\n",
    "df.loc[:, 'number_vmail_messages'] = df.loc[:, 'number_vmail_messages'].astype('float32')\n",
    "df.loc[:, 'total_day_minutes'] = df.loc[:, 'total_day_minutes'].astype('float32')\n",
    "df.loc[:, 'total_day_calls'] = df.loc[:, 'total_day_calls'].astype('float32')\n",
    "df.loc[:, 'total_day_charge'] = df.loc[:, 'total_day_charge'].astype('float32')\n",
    "df.loc[:, 'total_eve_minutes'] = df.loc[:, 'total_eve_minutes'].astype('float32')\n",
    "df.loc[:, 'total_eve_calls'] = df.loc[:, 'total_eve_calls'].astype('float32')\n",
    "df.loc[:, 'total_night_minutes'] = df.loc[:, 'total_night_minutes'].astype('float32')\n",
    "df.loc[:, 'total_night_calls'] = df.loc[:, 'total_night_calls'].astype('float32')\n",
    "df.loc[:, 'total_night_charge'] = df.loc[:, 'total_night_charge'].astype('float32')\n",
    "\n",
    "df.loc[:, 'customer_service_calls'] = df.loc[:, 'customer_service_calls'].astype('float32')\n",
    "df.loc[:, 'phone_num'] = df.loc[:, 'phone_num'].astype('float32')\n",
    "\n",
    "df.loc[:, 'churn'] = df.loc[:, 'churn'].astype('int32')\n",
    "df.loc[:, 'area_code'] = df.loc[:, 'area_code'].astype('int32')\n",
    "\n",
    "df.loc[:, 'international_plan'] = df.loc[:, 'international_plan'].astype('category')\n",
    "df.loc[:, 'voice_mail_plan'] = df.loc[:, 'voice_mail_plan'].astype('category')\n",
    "df.loc[:, 'city'] = df.loc[:, 'city'].astype('category')\n",
    "df.dtypes"
   ]
  },
  {
   "cell_type": "code",
   "execution_count": null,
   "id": "aa2ef983",
   "metadata": {},
   "outputs": [],
   "source": [
    "#check if the values are null in the table \n",
    "df.isna().sum()"
   ]
  },
  {
   "cell_type": "code",
   "execution_count": null,
   "id": "533dd533",
   "metadata": {},
   "outputs": [],
   "source": [
    "#the correlation matrix\n",
    "\n",
    "fig, ax = plt.subplots(figsize = [20,20])\n",
    "sns.heatmap(df.corr(), annot=True, ax =ax)"
   ]
  },
  {
   "cell_type": "markdown",
   "id": "0111ab9a",
   "metadata": {},
   "source": [
    "# 3) What are the names of the four cities with the highest rates of customer churn?"
   ]
  },
  {
   "cell_type": "code",
   "execution_count": null,
   "id": "3ca36dcc",
   "metadata": {},
   "outputs": [],
   "source": [
    "#identify four cities with the highest customer churn\n",
    "four_cities  = pd.crosstab(index = df.loc[:, 'city'], columns = df.loc[:, 'churn']).sort_values(by = 1, ascending= False) \n",
    "our_four_cities = four_cities[:4]\n",
    "our_four_cities"
   ]
  },
  {
   "cell_type": "markdown",
   "id": "efffe280",
   "metadata": {},
   "source": [
    "# 4a) Which categorical data series should be used to identify customers who will possibly leave soon? Which customers should be contacted based on this data series?"
   ]
  },
  {
   "cell_type": "code",
   "execution_count": null,
   "id": "fbd14cce",
   "metadata": {},
   "outputs": [],
   "source": [
    "#сheck the column \"international plan\" \n",
    "\n",
    "\n",
    "inter1 = pd.crosstab(index  = df.loc[:, 'churn'], columns = df.loc[:, 'international_plan'])\n",
    "print(inter1)\n",
    "\n",
    "inter2 = pd.crosstab(index  = df.loc[:, 'churn'], columns = df.loc[:, 'international_plan'], normalize= 'columns')\n",
    "print(inter2)"
   ]
  },
  {
   "cell_type": "code",
   "execution_count": null,
   "id": "cb5f8317",
   "metadata": {},
   "outputs": [],
   "source": [
    "# check the column \"voice_mail_plan\"\n",
    "\n",
    "voice = pd.crosstab(index  = df.loc[:, 'voice_mail_plan'], columns = df.loc[:, 'churn'])\n",
    "voice"
   ]
  },
  {
   "cell_type": "code",
   "execution_count": null,
   "id": "f58a7038",
   "metadata": {},
   "outputs": [],
   "source": [
    "#a lot of customers have the extra voicemail package, but these customers don't look as likely to leave.\n",
    "\n",
    "#more than 40% of customers who had the international plan, left the company. it looks very suspicious,\n",
    "# that's why we need to look at these clients"
   ]
  },
  {
   "cell_type": "code",
   "execution_count": null,
   "id": "b9155332",
   "metadata": {},
   "outputs": [],
   "source": [
    "mask_for_categor1 = df.loc[:,  'international_plan'] == 'yes'\n",
    "mask_for_categor2 = df.loc[:, 'churn'] ==0\n",
    "mask_for_all  = mask_for_categor1 & mask_for_categor2\n",
    "df_cat = df.loc[mask_for_all, :]\n",
    "df_cat.head()"
   ]
  },
  {
   "cell_type": "markdown",
   "id": "bb475f85",
   "metadata": {},
   "source": [
    "# 4b) Which integer data series would you also use for this and how would you set the threshold? Which customers should be contacted based on this data series?"
   ]
  },
  {
   "cell_type": "code",
   "execution_count": null,
   "id": "9cb00694",
   "metadata": {},
   "outputs": [],
   "source": [
    "#check the amount of unique data in columns with integer data \n",
    "\n",
    "count_of_email = len(df.loc[:, \"number_vmail_messages\"].unique())\n",
    "print(count_of_email)\n",
    "\n",
    "count_of_day_calls = len(df.loc[:, \"total_day_calls\"].unique())\n",
    "print(count_of_day_calls)\n",
    "\n",
    "count_of_eve_calls = len(df.loc[:, \"total_eve_calls\"].unique())\n",
    "print(count_of_eve_calls)\n",
    "\n",
    "count_of_night_calls = len(df.loc[:, \"total_night_calls\"].unique())\n",
    "print(count_of_night_calls)\n",
    "\n",
    "count_service = len(df.loc[:, \"customer_service_calls\"].unique())\n",
    "print(count_service)"
   ]
  },
  {
   "cell_type": "code",
   "execution_count": null,
   "id": "1b9c602c",
   "metadata": {},
   "outputs": [],
   "source": [
    "#the column \"customer_service_calls\" should be treated as categorical\n",
    "#checking column \"customer_service_calls\" with histograms\n",
    "service = pd.crosstab(index  = df.loc[:, 'customer_service_calls'], columns = df.loc[:, 'churn'])\n",
    "service\n",
    "service.plot(kind = 'bar')"
   ]
  },
  {
   "cell_type": "code",
   "execution_count": null,
   "id": "a23250f7",
   "metadata": {},
   "outputs": [],
   "source": [
    "#checking the columns 'total_day_calls', 'total_eve_calls' and 'total_night_calls' with histograms \n",
    "\n",
    "fig, ax1 = plt.subplots(nrows = 3, figsize =[10,20])\n",
    "df.groupby('churn')['total_day_calls'].plot(kind='hist',legend=True, ax = ax1[0])\n",
    "df.groupby('churn')['total_eve_calls'].plot(kind='hist',legend=True, ax = ax1[1])\n",
    "df.groupby('churn')['total_night_calls'].plot(kind='hist',legend=True, ax = ax1[2])"
   ]
  },
  {
   "cell_type": "code",
   "execution_count": null,
   "id": "50aedf0a",
   "metadata": {},
   "outputs": [],
   "source": [
    "#checking the columns 'total_day_calls', 'total_eve_calls' and 'total_night_calls' with boxplots\n",
    "\n",
    "fig, ax2 = plt.subplots(nrows = 1, ncols = 3)\n",
    "df.boxplot(column='total_day_calls', by='churn', ax=ax2[0])\n",
    "df.boxplot(column='total_eve_calls', by='churn', ax=ax2[1])\n",
    "df.boxplot(column='total_night_calls', by='churn', ax=ax2[2])"
   ]
  },
  {
   "cell_type": "code",
   "execution_count": null,
   "id": "ec078598",
   "metadata": {},
   "outputs": [],
   "source": [
    "#checking the column 'account_length' with histogram and boxplot \n",
    "\n",
    "fig, ax3 = plt.subplots(nrows = 1, ncols = 2)\n",
    "df.boxplot(column='account_length', by='churn', ax=ax3[0])\n",
    "df.groupby('churn')['account_length'].plot(kind='hist',legend=True, ax = ax3[1])"
   ]
  },
  {
   "cell_type": "code",
   "execution_count": null,
   "id": "32895dfe",
   "metadata": {},
   "outputs": [],
   "source": [
    "#checking the column 'number_vmail_messages' with histogram and boxplot \n",
    "\n",
    "fig, ax4 = plt.subplots(nrows = 1, ncols = 2)\n",
    "df.boxplot(column='number_vmail_messages', by='churn', ax=ax4[0])\n",
    "df.groupby('churn')['number_vmail_messages'].plot(kind='hist',legend=True, ax = ax4[1])"
   ]
  },
  {
   "cell_type": "code",
   "execution_count": null,
   "id": "02413b00",
   "metadata": {},
   "outputs": [],
   "source": [
    "#based on the data from the column \"customer_service_calls\" we can say that there is a dependence between \n",
    "#the number of customers' calls and churn statistic \n",
    "\n",
    "mask_for_categor2 = df.loc[:, 'churn'] == 0\n",
    "mask_for_customer = df.loc[:, 'customer_service_calls'] >3\n",
    "mask_for_int = mask_for_categor2 & mask_for_customer\n",
    "df_int = df.loc[mask_for_int, :]\n",
    "print(df_int.shape[0])"
   ]
  },
  {
   "cell_type": "markdown",
   "id": "0496c7dd",
   "metadata": {},
   "source": [
    "# 4c) Which floating point data series could you use to help with this selection? Determine the threshold for this by using logistic regression. Which customers should be contacted based on this data series?"
   ]
  },
  {
   "cell_type": "code",
   "execution_count": null,
   "id": "9dab5647",
   "metadata": {},
   "outputs": [],
   "source": [
    "# make a plot with one column on the x-axis and the other on the y-axis\n",
    "fig, axs = plt.subplots(nrows=1, ncols=3, figsize=[18, 6])  # define a plot with 3 Axes (day, eve, night)\n",
    "df.plot(kind='scatter', \n",
    "        x='total_day_minutes', \n",
    "        y='total_day_charge', \n",
    "        ax=axs[0],\n",
    "        xlim=(0,500),\n",
    "        ylim=(0,60));  \n",
    "df.plot(kind='scatter', \n",
    "        x='total_eve_minutes', \n",
    "        y='total_eve_charge', \n",
    "        ax=axs[1],\n",
    "        xlim=(0,500),\n",
    "        ylim=(0,60));  \n",
    "df.plot(kind='scatter', \n",
    "        x='total_night_minutes', \n",
    "        y='total_night_charge', \n",
    "        ax=axs[2],\n",
    "        xlim=(0,500),\n",
    "        ylim=(0,60));  "
   ]
  },
  {
   "cell_type": "code",
   "execution_count": null,
   "id": "c6ee7cea",
   "metadata": {},
   "outputs": [],
   "source": [
    "#make the mask to drop the outliers \n",
    "\n",
    "mask_total = df.loc[:, 'total_day_minutes'] >360\n",
    "df =df.drop(df.index[mask_total], axis = 0)"
   ]
  },
  {
   "cell_type": "code",
   "execution_count": null,
   "id": "476335c0",
   "metadata": {},
   "outputs": [],
   "source": [
    "#checking the column 'total_day_minutes', 'total_eve_minutes' and 'total_night_minutes' with histograms and boxplots \n",
    "\n",
    "fig, ax5 = plt.subplots(nrows = 2,ncols=3, figsize= [12,12])\n",
    "df.groupby('churn')['total_day_minutes'].plot(kind='hist',legend=True, ax =ax5[0][0], bins = 50)\n",
    "df.groupby('churn')['total_eve_minutes'].plot(kind='hist',legend=True, ax = ax5[0][1],bins = 50)\n",
    "df.groupby('churn')['total_night_minutes'].plot(kind='hist',legend=True, ax = ax5[0][2],bins = 50)\n",
    "df.boxplot(column='total_day_minutes', by='churn', ax=ax5[1][0])\n",
    "df.boxplot(column='total_eve_minutes', by='churn', ax=ax5[1][1])\n",
    "df.boxplot(column='total_night_minutes', by='churn', ax=ax5[1][2])"
   ]
  },
  {
   "cell_type": "code",
   "execution_count": null,
   "id": "bd1c6107",
   "metadata": {},
   "outputs": [],
   "source": [
    "#checking the column 'total_day_charge', 'total_eve_charge' and 'total_night_charge' with histograms and boxplots\n",
    "\n",
    "fig, ax6 = plt.subplots(nrows = 2,ncols=3, figsize= [12,12])\n",
    "df.groupby('churn')['total_day_charge'].plot(kind='hist',legend=True, ax =ax6[0][0], bins = 50)\n",
    "df.groupby('churn')['total_eve_charge'].plot(kind='hist',legend=True, ax = ax6[0][1],bins = 50)\n",
    "df.groupby('churn')['total_night_charge'].plot(kind='hist',legend=True, ax = ax6[0][2],bins = 50)\n",
    "df.boxplot(column='total_day_charge', by='churn', ax=ax6[1][0])\n",
    "df.boxplot(column='total_eve_charge', by='churn', ax=ax6[1][1])\n",
    "df.boxplot(column='total_night_charge', by='churn', ax=ax6[1][2])"
   ]
  },
  {
   "cell_type": "code",
   "execution_count": null,
   "id": "ecb688d3",
   "metadata": {},
   "outputs": [],
   "source": [
    "#plot pairwise relationships between variables within a dataset\n",
    "\n",
    "df_logic_data = df.loc[:,[\"total_day_charge\", \"total_eve_charge\", \"total_night_charge\", \"total_day_minutes\",\"total_eve_minutes\", \"total_night_minutes\", \"churn\"]]\n",
    "sns.pairplot(df_logic_data)"
   ]
  },
  {
   "cell_type": "code",
   "execution_count": null,
   "id": "8137aad7",
   "metadata": {},
   "outputs": [],
   "source": [
    "#the correlation matrix which contains the floating point data\n",
    "sns.heatmap(df_logic_data.corr(), annot=True)"
   ]
  },
  {
   "cell_type": "code",
   "execution_count": null,
   "id": "5aa25efd",
   "metadata": {},
   "outputs": [],
   "source": [
    "#logistic regression of churn and total_day_minutes\n",
    "\n",
    "model = smf.logit(formula='churn ~ total_day_minutes ', data=df_logic_data)\n",
    "results = model.fit()\n",
    "results.summary()"
   ]
  },
  {
   "cell_type": "code",
   "execution_count": null,
   "id": "6984d9b5",
   "metadata": {},
   "outputs": [],
   "source": [
    "# find the trained results to predict a given range and plot the S-curve\n",
    "\n",
    "X = pd.Series(range(800))  \n",
    "X_df = pd.DataFrame(X)\n",
    "X_df.columns = ['total_day_minutes']\n",
    "\n",
    "\n",
    "p_y = results.predict(X_df)\n",
    "fig, ax = plt.subplots()\n",
    "p_y.plot(ax=ax)\n",
    "ax.set(xlabel='total_day_minutes', ylabel='churn')\n",
    "\n",
    "p_y[p_y>=0.5].index[0]"
   ]
  },
  {
   "cell_type": "code",
   "execution_count": null,
   "id": "279ddc58",
   "metadata": {},
   "outputs": [],
   "source": [
    "#Calculate treshold value and plot it as a vertical line in logistic regression plot\n",
    "fig, ax = plt.subplots()\n",
    "ax.plot(p_y);\n",
    "ax.set(xlabel='total_day_charge', ylabel='churn')\n",
    "ax.axvline(p_y[p_y>=0.5].index[0], color='black')"
   ]
  },
  {
   "cell_type": "code",
   "execution_count": null,
   "id": "c03935e6",
   "metadata": {},
   "outputs": [],
   "source": [
    "#find the customer to be contacted based on critical value from logistic regression\n",
    "\n",
    "mask = df.loc[:,'total_day_minutes'] >= (p_y[p_y>=0.5].index[0])\n",
    "df.loc[mask,:]"
   ]
  },
  {
   "cell_type": "code",
   "execution_count": null,
   "id": "f40cf8d3",
   "metadata": {},
   "outputs": [],
   "source": [
    "#plot the histogram of our values and the treshold value as a vertical line\n",
    "fig, ax = plt.subplots(figsize=[8, 8])\n",
    "df.groupby('churn')['total_day_minutes'].plot(kind='hist', bins=50, ax=ax)\n",
    "ax.set(xlim=[0, 800])\n",
    "ax.vlines(x=349, ymin=0, ymax=160)"
   ]
  },
  {
   "cell_type": "markdown",
   "id": "e16f6f50",
   "metadata": {},
   "source": [
    "#  5) Visualizing the cities and other selected data series"
   ]
  },
  {
   "cell_type": "code",
   "execution_count": null,
   "id": "d666df5e",
   "metadata": {},
   "outputs": [],
   "source": [
    "#we build a schedule of cities and their level of customer churn. \n",
    "#With the help of a vertical line, we separate the first four cities \n",
    "#that we should draw attention to, as they are the ones with the greatest loss of customers\n",
    "from matplotlib.patches import FancyArrowPatch\n",
    "\n",
    "fig, ax = plt.subplots(figsize = [20,10])\n",
    "plt.style.use('fivethirtyeight')\n",
    "my_colors = [\"#FBCEB1\",\"#A57164\"]\n",
    "df_city = pd.crosstab(index=df.loc[:, 'city'],columns=df.loc[:, 'churn'],normalize='index')\n",
    "df_city = df_city.sort_values(by=1, ascending=False)\n",
    "df_city.plot(kind='bar',ax=ax, color = my_colors)\n",
    "df_city.iloc[:,1].plot(ax =ax,color='brown')\n",
    "\n",
    "ax.set( ylim =[0,1.14], ylabel = \"The percentage of churn for cities\")\n",
    "ax.set_title(label =\"Statistics of churn for four cities\",fontweight = 'bold', fontsize = 40)\n",
    "ax.xaxis.set_tick_params(labelrotation=0)\n",
    "ax.axvline(3.5, ymax = 0.83, color='black')\n",
    "\n",
    "ax.legend(['Avg line',\"Line of four cities\", 'Clients did not leave', 'Clients left'], title= \"Churn\",prop = {'size':15}, bbox_to_anchor=(1.0,1.08))\n",
    "\n",
    "\n",
    "first_row = ax.annotate(s = '',\n",
    "                 xy=(-0.1, 0.9),\n",
    "                 xytext=(-0.1, 1.05),\n",
    "                arrowprops=dict(facecolor='black'))\n",
    "second_row = ax.annotate(s = '',\n",
    "                 xy=(0.9, 0.9),\n",
    "                 xytext=(0.9, 1.05),\n",
    "                arrowprops=dict(facecolor='black'))\n",
    "third_row = ax.annotate(s = '',\n",
    "                 xy=(1.9, 0.9),\n",
    "                 xytext=(1.9, 1.05),\n",
    "                arrowprops=dict(facecolor='black'))\n",
    "fourth_row = ax.annotate(s = '',\n",
    "                 xy=(2.9, 0.9),\n",
    "                 xytext=(2.9, 1.05),\n",
    "                arrowprops=dict(facecolor='black'))"
   ]
  },
  {
   "cell_type": "code",
   "execution_count": null,
   "id": "2e00f527",
   "metadata": {},
   "outputs": [],
   "source": [
    "#these pie charts show the dependence of a categorical variable \"international_plan\" on customer churn.\n",
    "\n",
    "fig, ax = plt.subplots(nrows= 1, ncols = 2, figsize =[12,10])\n",
    "\n",
    "explode1 = (0, 0.2)\n",
    "explode2 = (0, 0.07)\n",
    "df_inter_var = pd.crosstab(index=df.loc[:, 'churn'],\n",
    "                            columns=df.loc[:, 'international_plan'], normalize='columns')\n",
    "df_inter_var.plot(kind='pie',y=0,ax=ax[0], legend = False, explode = explode1, colors = my_colors)\n",
    "ax[0].set(ylabel=\"\")\n",
    "ax[0].set_title(label ='Statistics for people that \\ndid not have an international plan', fontweight=\"bold\")\n",
    "df_inter_var.plot(kind='pie',y=1,ax=ax[1], legend = False, explode = explode2,colors = my_colors)\n",
    "ax[1].set(ylabel= \"\")\n",
    "ax[1].set_title(label = 'Statistics for people that \\nhad an international plan', fontweight=\"bold\")\n",
    "legend = plt.legend(['Clients did not leave', 'Clients left'], \n",
    "                    prop = {'size':10}, loc='upper right', \n",
    "                    bbox_to_anchor=(0.2, 0.1), fancybox = True, \n",
    "                    shadow = True,framealpha=1, borderpad=1)"
   ]
  },
  {
   "cell_type": "code",
   "execution_count": null,
   "id": "58cfd2ea",
   "metadata": {},
   "outputs": [],
   "source": [
    "#these two graphs show the dependence of number of customer's calls on churn.\n",
    "#it is seen that the situation worsens when the number of calls exceeds 3\n",
    "\n",
    "mask_for_customer = df.loc[:, 'customer_service_calls'] >3\n",
    "df_int = df.loc[mask_for_int, :]\n",
    "\n",
    "fig, ax = plt.subplots(nrows =1, ncols=2, figsize =[20,8])\n",
    "df_integer = pd.crosstab(index=df.loc[:, 'customer_service_calls'],\n",
    "                            columns=df.loc[:, 'churn'],\n",
    "                            normalize='index'\n",
    "                           )\n",
    "df_integer.plot(kind='bar',ax=ax[0], legend = False, color = my_colors)\n",
    "ax[0].set_ylabel(ylabel = \"The percentage of churn\", fontsize = 22)\n",
    "ax[0].set_title(label = \"General statistics for all possible \\nvalues of 'customer service calls' \", loc = \"center\", pad = 35 ,fontweight=\"bold\")\n",
    "ax[0].xaxis.set_tick_params(labelrotation=0)\n",
    "ax[0].set_xlabel(xlabel = 'customer_service_calls', fontsize = 22)\n",
    "\n",
    "df_integer_3 = pd.crosstab(index=df.loc[mask_for_customer, 'customer_service_calls'],\n",
    "                            columns=df.loc[:, 'churn'],\n",
    "                           normalize='index')\n",
    "df_integer_3.plot(kind='bar',ax=ax[1], legend = False, color = my_colors)\n",
    "ax[1].set_yticklabels([None])\n",
    "ax[1].set_ylabel(ylabel = \"The percentage of churn\", fontsize = 22)\n",
    "ax[1].set_title(label = \"Statistics for that values of 'customer service calls',\\n which are needed to draw attention \", loc = \"center\", pad = 35, fontweight=\"bold\")\n",
    "ax[1].xaxis.set_tick_params(labelrotation=0)\n",
    "ax[1].set_xlabel(xlabel = 'customer_service_calls', fontsize = 22)\n",
    "\n",
    "legend = plt.legend(['Clients did not leave', 'Clients left'], title = \"Churn\", prop = {'size':18}, loc='upper right', bbox_to_anchor=(0.38, 1.015), fancybox = True)"
   ]
  },
  {
   "cell_type": "code",
   "execution_count": null,
   "id": "ce762e6a",
   "metadata": {},
   "outputs": [],
   "source": [
    "#this is visualisation the S curve of the logistic regression 'churn ~ total_day_minutes'. \n",
    "#in the plot there is the threshold value, from which point customers are more than 50% like to churn\n",
    "\n",
    "mask = df.loc[:,'total_day_minutes'] >= (p_y[p_y>=0.5].index[0])\n",
    "fig, ax = plt.subplots(figsize =[12,6])\n",
    "ax.plot(p_y, color = my_colors[0])\n",
    "ax.set( xlim= [0,700])\n",
    "ax.axvline(p_y[p_y>=0.5].index[0], color='black')\n",
    "\n",
    "an_for_point = ax.annotate(s = '',\n",
    "                 xy=(340, 0.52),\n",
    "                 xytext=(275, 0.7),\n",
    "                arrowprops=dict(facecolor='black'))\n",
    "plt.ylabel(ylabel = 'Propability of churn', fontsize =20)\n",
    "plt.xlabel(xlabel='total_day_charge', fontsize = 20)\n",
    "string = plt.text(205, 0.73, \"The threshold \\n        value\")\n",
    "ax.set_title(label = \"The S curle of the logistic regression \\n 'churn ~ total_day_minutes '\", loc = \"center\", pad = 20, fontweight=\"bold\")\n",
    "\n",
    "ax.scatter([349], [0.5], color='brown', s=250, marker='o')"
   ]
  },
  {
   "cell_type": "markdown",
   "id": "07c05871",
   "metadata": {},
   "source": [
    "# 6) Formulating a recommendation"
   ]
  },
  {
   "cell_type": "code",
   "execution_count": null,
   "id": "02f45947",
   "metadata": {},
   "outputs": [],
   "source": [
    "## Insights and recommendations from the data set\n",
    "\n",
    "#The result of the first marketing campaign is shown that it should be drawn attention to such cities:\n",
    "#Jacksonville, Orlando1, Cape Coral, Orlando2\n",
    "#These cities have the biggest churn of customers, that's why these clients may leave\n",
    "\n",
    "#For the second marketing company:\n",
    "\n",
    "#An examination of categorical data showed that customers who signed up for an international plan had \n",
    "#questionable churn statistics. More than 40 percent of customers left the company after using this package.\n",
    "#From this we can conclude that the company should pay attention to those customers who have completed the international plan \n",
    "#but have not yet left the company.\n",
    "\n",
    "#The company also needs to focus on those customers who more often contact the support service, as there is a noticeable trend:\n",
    "#the more a customer makes calls to the support service, the more likely he will leave the company\n",
    "\n",
    "#Unfortunately, the logistic regression did not help me to identify the people \n",
    "#who would have the conditions of the poster campaign\n",
    "\n",
    "#All in all, general amount of people that should be contacted according to my analysis: 311 "
   ]
  }
 ],
 "metadata": {
  "kernelspec": {
   "display_name": "Python 3 (ipykernel)",
   "language": "python",
   "name": "python3"
  },
  "language_info": {
   "codemirror_mode": {
    "name": "ipython",
    "version": 3
   },
   "file_extension": ".py",
   "mimetype": "text/x-python",
   "name": "python",
   "nbconvert_exporter": "python",
   "pygments_lexer": "ipython3",
   "version": "3.8.0"
  }
 },
 "nbformat": 4,
 "nbformat_minor": 5
}
